{
 "cells": [
  {
   "cell_type": "code",
   "execution_count": null,
   "metadata": {},
   "outputs": [],
   "source": [
    "import pandas as pd\n",
    "df = pd.read_csv('final_dataset.csv', low_memory=False)\n",
    "\n",
    "numeric_columns = df.select_dtypes(include=['float64', 'int64']).columns\n",
    "print(numeric_columns)\n",
    "\n",
    "df.head()"
   ]
  },
  {
   "cell_type": "markdown",
   "metadata": {},
   "source": [
    "## Conversion to Numeric Columns"
   ]
  },
  {
   "cell_type": "code",
   "execution_count": null,
   "metadata": {},
   "outputs": [],
   "source": [
    "numeric_columns = df.select_dtypes(include=['float64', 'int64']).columns\n",
    "\n",
    "non_numeric_counts = {}\n",
    "missing_counts = {}\n",
    "\n",
    "for col in numeric_columns:\n",
    "    non_numeric_counts[col] = df[col].apply(pd.to_numeric, errors='coerce').isnull().sum()\n",
    "    missing_counts[col] = df[col].isnull().sum()\n",
    "\n",
    "# Print non-numeric and missing value counts\n",
    "print(\"Non-numeric value counts in numeric columns:\")\n",
    "print(non_numeric_counts)\n",
    "print(\"\\nMissing value counts in numeric columns:\")\n",
    "print(missing_counts)\n",
    "\n",
    "# Get summary statistics for numeric columns\n",
    "summary_statistics = df[numeric_columns].describe()\n",
    "print(\"\\nSummary statistics for numeric columns:\")\n",
    "print(summary_statistics)"
   ]
  },
  {
   "cell_type": "markdown",
   "metadata": {},
   "source": [
    "## Encoding"
   ]
  },
  {
   "cell_type": "code",
   "execution_count": null,
   "metadata": {},
   "outputs": [],
   "source": [
    "from category_encoders.target_encoder import TargetEncoder\n",
    "from sklearn.preprocessing import OneHotEncoder, LabelEncoder\n",
    "\n",
    "# One-hot encoding\n",
    "one_hot_columns = ['universityType', 'programType', 'language']\n",
    "df = pd.get_dummies(df, columns=one_hot_columns)\n",
    "\n",
    "# Label encoding\n",
    "label_columns = ['universityLocation', 'universityRegion','universityName', 'departmentName', 'faculty']\n",
    "label_encoder = LabelEncoder()\n",
    "for col in label_columns:\n",
    "    df[col] = label_encoder.fit_transform(df[col])\n",
    "\n",
    "# Ordinal encoding for ordinal features\n",
    "ordinal_mapping = {\n",
    "    'scholarshipRate': {0.0: 0, 25.0: 1, 50.0: 2, 75.0: 3, 100.0: 4},\n",
    "}\n",
    "for col, mapping in ordinal_mapping.items():\n",
    "    if col in df.columns:\n",
    "        df[col] = df[col].map(mapping)\n",
    "\n",
    "non_numeric_columns = df.select_dtypes(exclude=['number']).columns\n",
    "\n",
    "print(non_numeric_columns)\n"
   ]
  },
  {
   "cell_type": "code",
   "execution_count": null,
   "metadata": {},
   "outputs": [],
   "source": [
    "for col in non_numeric_columns:\n",
    "    df[col] = df[col].astype(int)\n",
    "non_numeric_columns = df.select_dtypes(exclude=['number']).columns\n",
    "print(non_numeric_columns)\n",
    "df.head()\n",
    "df.to_csv('final_dataset_encoded.csv', index=False)"
   ]
  }
 ],
 "metadata": {
  "kernelspec": {
   "display_name": ".venv",
   "language": "python",
   "name": "python3"
  },
  "language_info": {
   "name": "python",
   "version": "3.11.6"
  }
 },
 "nbformat": 4,
 "nbformat_minor": 2
}

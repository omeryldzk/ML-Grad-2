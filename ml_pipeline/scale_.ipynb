{
 "cells": [
  {
   "cell_type": "code",
   "execution_count": 3,
   "metadata": {},
   "outputs": [],
   "source": [
    "from sklearn.model_selection import train_test_split, StratifiedKFold\n",
    "import pandas as pd\n",
    "import pandas as pd\n",
    "import matplotlib.pyplot as plt\n",
    "import seaborn as sns\n",
    "import numpy as np\n",
    "from sklearn.compose import ColumnTransformer\n",
    "from sklearn.preprocessing import StandardScaler, MinMaxScaler, RobustScaler, OneHotEncoder\n",
    "import numpy as np\n",
    "from sklearn.pipeline import Pipeline\n",
    "from sklearn.preprocessing import FunctionTransformer\n",
    "from sklearn.pipeline import Pipeline\n",
    "from sklearn.ensemble import RandomForestRegressor, GradientBoostingRegressor\n",
    "from sklearn.linear_model import LinearRegression, Ridge, Lasso\n",
    "from sklearn.svm import SVR\n",
    "from sklearn.model_selection import RandomizedSearchCV\n",
    "import numpy as np\n",
    "import matplotlib.pyplot as plt\n",
    "import seaborn as sns\n",
    "import numpy as np\n",
    "import pandas as pd\n",
    "from sklearn.metrics import mean_squared_error, mean_absolute_error, r2_score\n",
    "from sklearn.pipeline import Pipeline\n",
    "from sklearn.ensemble import RandomForestRegressor, GradientBoostingRegressor\n",
    "from sklearn.linear_model import LinearRegression, Ridge, Lasso\n",
    "from sklearn.svm import SVR\n",
    "from sklearn.linear_model import LinearRegression, Ridge, Lasso, ElasticNet\n",
    "from sklearn.tree import DecisionTreeRegressor\n",
    "from sklearn.ensemble import RandomForestRegressor, GradientBoostingRegressor\n",
    "from sklearn.svm import SVR\n",
    "from sklearn.neighbors import KNeighborsRegressor\n",
    "import numpy as np\n",
    "import pickle\n",
    "\n"
   ]
  },
  {
   "cell_type": "code",
   "execution_count": 20,
   "metadata": {},
   "outputs": [
    {
     "name": "stdout",
     "output_type": "stream",
     "text": [
      "DataFrame with year index 2019:             academicYear  universityName  faculty  departmentName  \\\n",
      "year_index                                                          \n",
      "1                   2019               0      194             298   \n",
      "1                   2019               0      201              36   \n",
      "1                   2019               0      201              94   \n",
      "1                   2019               0      201             107   \n",
      "1                   2019               0      201             278   \n",
      "\n",
      "                 idOSYM  scholarshipRate  quota  occupiedSlots  tuitionFee  \\\n",
      "year_index                                                                   \n",
      "1           106510014.0                0   62.0           62.0         0.0   \n",
      "1           106510077.0                0   62.0           62.0         0.0   \n",
      "1           106510068.0                0   62.0           62.0         0.0   \n",
      "1           106510023.0                0   62.0           62.0         0.0   \n",
      "1           106510041.0                0   62.0           62.0         0.0   \n",
      "\n",
      "            universityLocation  ...  language_Korece  language_Lehçe  \\\n",
      "year_index                      ...                                    \n",
      "1                           41  ...                0               0   \n",
      "1                           41  ...                0               0   \n",
      "1                           41  ...                0               0   \n",
      "1                           41  ...                0               0   \n",
      "1                           41  ...                0               0   \n",
      "\n",
      "            language_Rusça  language_Türkçe  language_Çince  \\\n",
      "year_index                                                    \n",
      "1                        0                0               0   \n",
      "1                        0                0               0   \n",
      "1                        0                0               0   \n",
      "1                        0                0               0   \n",
      "1                        0                0               0   \n",
      "\n",
      "            language_İngilizce  language_İspanyolca  language_İtalyanca  \\\n",
      "year_index                                                                \n",
      "1                            1                    0                   0   \n",
      "1                            1                    0                   0   \n",
      "1                            1                    0                   0   \n",
      "1                            1                    0                   0   \n",
      "1                            1                    0                   0   \n",
      "\n",
      "            idOSYM_flag  academicYear_flag  \n",
      "year_index                                  \n",
      "1           106510014.0               2019  \n",
      "1           106510077.0               2019  \n",
      "1           106510068.0               2019  \n",
      "1           106510023.0               2019  \n",
      "1           106510041.0               2019  \n",
      "\n",
      "[5 rows x 64 columns]\n"
     ]
    }
   ],
   "source": [
    "# Load the dataset\n",
    "df = pd.read_csv('2025_train.csv', low_memory=False)\n",
    "\n",
    "\n",
    "df['year_index'] = pd.Series(df['academicYear']).rank(method='dense').astype(int)\n",
    "\n",
    "# Set academicYear as index if needed\n",
    "df.set_index('year_index', inplace=True)\n",
    "\n",
    "df_2019 = df.loc[1]  # Based on your date format\n",
    "print(\"DataFrame with year index 2019:\" ,df_2019.head())"
   ]
  },
  {
   "cell_type": "markdown",
   "metadata": {},
   "source": [
    "### Encoding"
   ]
  },
  {
   "cell_type": "code",
   "execution_count": 12,
   "metadata": {},
   "outputs": [
    {
     "name": "stdout",
     "output_type": "stream",
     "text": [
      "       universityType_devlet  universityType_vakıf  programType_DİL  \\\n",
      "count              50554.000             50554.000        50554.000   \n",
      "mean                   0.607                 0.393            0.049   \n",
      "std                    0.488                 0.488            0.215   \n",
      "min                    0.000                 0.000            0.000   \n",
      "25%                    0.000                 0.000            0.000   \n",
      "50%                    1.000                 0.000            0.000   \n",
      "75%                    1.000                 1.000            0.000   \n",
      "max                    1.000                 1.000            1.000   \n",
      "\n",
      "       programType_EA  programType_SAY  programType_SÖZ  language_Almanca  \\\n",
      "count       50554.000        50554.000        50554.000         50554.000   \n",
      "mean            0.324            0.453            0.174             0.004   \n",
      "std             0.468            0.498            0.379             0.063   \n",
      "min             0.000            0.000            0.000             0.000   \n",
      "25%             0.000            0.000            0.000             0.000   \n",
      "50%             0.000            0.000            0.000             0.000   \n",
      "75%             1.000            1.000            0.000             0.000   \n",
      "max             1.000            1.000            1.000             1.000   \n",
      "\n",
      "       language_Arapça  language_Bulgarca  language_Ermenice  ...  \\\n",
      "count        50554.000          50554.000          50554.000  ...   \n",
      "mean             0.002              0.000              0.000  ...   \n",
      "std              0.048              0.011              0.011  ...   \n",
      "min              0.000              0.000              0.000  ...   \n",
      "25%              0.000              0.000              0.000  ...   \n",
      "50%              0.000              0.000              0.000  ...   \n",
      "75%              0.000              0.000              0.000  ...   \n",
      "max              1.000              1.000              1.000  ...   \n",
      "\n",
      "       language_Lehçe  language_Rusça  language_Türkçe  language_Çince  \\\n",
      "count        50554.00       50554.000        50554.000       50554.000   \n",
      "mean             0.00           0.001            0.748           0.000   \n",
      "std              0.01           0.027            0.434           0.011   \n",
      "min              0.00           0.000            0.000           0.000   \n",
      "25%              0.00           0.000            0.000           0.000   \n",
      "50%              0.00           0.000            1.000           0.000   \n",
      "75%              0.00           0.000            1.000           0.000   \n",
      "max              1.00           1.000            1.000           1.000   \n",
      "\n",
      "       language_İngilizce  language_İspanyolca  language_İtalyanca  \\\n",
      "count           50554.000            50554.000           50554.000   \n",
      "mean                0.242                0.000               0.000   \n",
      "std                 0.428                0.014               0.011   \n",
      "min                 0.000                0.000               0.000   \n",
      "25%                 0.000                0.000               0.000   \n",
      "50%                 0.000                0.000               0.000   \n",
      "75%                 0.000                0.000               0.000   \n",
      "max                 1.000                1.000               1.000   \n",
      "\n",
      "       baseRanking   idOSYM_flag  academicYear_flag  \n",
      "count    50554.000  5.055400e+04          50554.000  \n",
      "mean    348852.799  1.444653e+08           2021.723  \n",
      "std     415518.240  4.817297e+07              1.666  \n",
      "min         24.000  1.001100e+08           2019.000  \n",
      "25%      75769.250  1.048102e+08           2020.000  \n",
      "50%     229276.000  1.094102e+08           2022.000  \n",
      "75%     470622.250  2.027106e+08           2023.000  \n",
      "max    3527443.000  2.104028e+08           2024.000  \n",
      "\n",
      "[8 rows x 22 columns]\n",
      "22\n"
     ]
    }
   ],
   "source": [
    "binary_features = [\n",
    "    'universityType_devlet', 'universityType_vakıf', 'programType_DİL', 'programType_EA', \n",
    "    'programType_SAY', 'programType_SÖZ', 'language_Almanca', 'language_Arapça', 'language_Bulgarca',  \n",
    "    'language_Ermenice', 'language_Fransızca', 'language_Korece', 'language_Lehçe', 'language_Rusça', \n",
    "    'language_Türkçe', 'language_Çince', 'language_İngilizce', 'language_İspanyolca', 'language_İtalyanca', \n",
    "    'baseRanking','idOSYM_flag', 'academicYear_flag'\n",
    "]\n",
    "print(df[binary_features].describe().round(3))\n",
    "print(len(binary_features))\n",
    "\n"
   ]
  },
  {
   "cell_type": "code",
   "execution_count": 13,
   "metadata": {},
   "outputs": [
    {
     "name": "stdout",
     "output_type": "stream",
     "text": [
      "42\n"
     ]
    }
   ],
   "source": [
    "numeric_features = []\n",
    "for feature in df.columns:\n",
    "    if feature not in binary_features:\n",
    "        numeric_features.append(feature)\n",
    "        \n",
    "print(len(numeric_features))"
   ]
  },
  {
   "cell_type": "code",
   "execution_count": 14,
   "metadata": {},
   "outputs": [
    {
     "name": "stdout",
     "output_type": "stream",
     "text": [
      "Skewed Features: ['quota', 'occupiedSlots', 'tuitionFee', 'profCount', 'assoCount', 'docCount', 'topRanking', 'avgAdmissionRanking(TYT)', 'stdDeviationStudents', 'revenue', 'totalPreference', 'top1PreferenceRatio', 'avgAdmittedStudentPrefOrder', 'top1AdmittedRatio', 'top10AdmittedRatio', 'admittedTotalPref', 'admittedTotalDepartmentPref', 'currentStudentCount', 'baseScore', 'topScore', 'totalForeignStudents']\n",
      "21\n",
      "Continous Features: ['academicYear', 'universityName', 'faculty', 'departmentName', 'idOSYM', 'scholarshipRate', 'universityLocation', 'universityRegion', 'baseAdmissionRanking(TYT)', 'outOfCityStudentRate', 'avgOrderofPreference', 'top3AdmittedRatio', 'totalStudentNumber', 'Urap_Rank', 'Urap_Score', 'avg_monthly_income_group', 'Time_for_employment', 'employment_rate', 'base_salary_by_year', 'inflation_by_year', 'growth_by_year']\n",
      "21\n"
     ]
    }
   ],
   "source": [
    "skew_values = df[numeric_features].skew()\n",
    "\n",
    "skew_features = skew_values[abs(skew_values) > 1.5].index.tolist()\n",
    "\n",
    "print(\"Skewed Features:\", skew_features)\n",
    "print(len(skew_features))\n",
    "\n",
    "continuous_features = [col for col in numeric_features if col not in skew_features]\n",
    "\n",
    "print(\"Continous Features:\", continuous_features)\n",
    "print(len(continuous_features))"
   ]
  },
  {
   "cell_type": "code",
   "execution_count": 17,
   "metadata": {},
   "outputs": [
    {
     "name": "stdout",
     "output_type": "stream",
     "text": [
      "       academicYear  universityName    faculty  departmentName     idOSYM  \\\n",
      "count     50554.000       50554.000  50554.000       50554.000  50554.000   \n",
      "mean         -0.000          -0.000      0.000          -0.000      0.000   \n",
      "std           1.000           1.000      1.000           1.000      1.000   \n",
      "min          -1.635          -1.765     -2.294          -1.869     -0.921   \n",
      "25%          -1.035          -0.914     -1.104          -0.881     -0.823   \n",
      "50%           0.166           0.053     -0.159          -0.101     -0.728   \n",
      "75%           0.766           0.904      0.615           0.887      1.209   \n",
      "max           1.367           1.637      2.191           1.778      1.369   \n",
      "\n",
      "       scholarshipRate  universityLocation  universityRegion  \\\n",
      "count        50554.000           50554.000         50554.000   \n",
      "mean             0.000              -0.000            -0.000   \n",
      "std              1.000               1.000             1.000   \n",
      "min             -0.678              -1.707            -2.204   \n",
      "25%             -0.678              -0.928            -0.602   \n",
      "50%             -0.678               0.259             0.466   \n",
      "75%              0.573               0.971             0.466   \n",
      "max              1.824               1.073             1.000   \n",
      "\n",
      "       baseAdmissionRanking(TYT)  outOfCityStudentRate  ...  language_Lehçe  \\\n",
      "count                  50554.000             50554.000  ...        50554.00   \n",
      "mean                      -0.000                -0.000  ...            0.00   \n",
      "std                        1.000                 1.000  ...            0.01   \n",
      "min                       -1.367                -1.897  ...            0.00   \n",
      "25%                       -0.793                -0.791  ...            0.00   \n",
      "50%                       -0.196                 0.061  ...            0.00   \n",
      "75%                        0.637                 0.857  ...            0.00   \n",
      "max                       10.179                 1.625  ...            1.00   \n",
      "\n",
      "       language_Rusça  language_Türkçe  language_Çince  language_İngilizce  \\\n",
      "count       50554.000        50554.000       50554.000           50554.000   \n",
      "mean            0.001            0.748           0.000               0.242   \n",
      "std             0.027            0.434           0.011               0.428   \n",
      "min             0.000            0.000           0.000               0.000   \n",
      "25%             0.000            0.000           0.000               0.000   \n",
      "50%             0.000            1.000           0.000               0.000   \n",
      "75%             0.000            1.000           0.000               0.000   \n",
      "max             1.000            1.000           1.000               1.000   \n",
      "\n",
      "       language_İspanyolca  language_İtalyanca  baseRanking   idOSYM_flag  \\\n",
      "count            50554.000           50554.000    50554.000  5.055400e+04   \n",
      "mean                 0.000               0.000   348852.799  1.444653e+08   \n",
      "std                  0.014               0.011   415518.240  4.817297e+07   \n",
      "min                  0.000               0.000       24.000  1.001100e+08   \n",
      "25%                  0.000               0.000    75769.250  1.048102e+08   \n",
      "50%                  0.000               0.000   229276.000  1.094102e+08   \n",
      "75%                  0.000               0.000   470622.250  2.027106e+08   \n",
      "max                  1.000               1.000  3527443.000  2.104028e+08   \n",
      "\n",
      "       academicYear_flag  \n",
      "count          50554.000  \n",
      "mean            2021.723  \n",
      "std                1.666  \n",
      "min             2019.000  \n",
      "25%             2020.000  \n",
      "50%             2022.000  \n",
      "75%             2023.000  \n",
      "max             2024.000  \n",
      "\n",
      "[8 rows x 64 columns]\n"
     ]
    }
   ],
   "source": [
    "scaler_standard = StandardScaler()\n",
    "\n",
    "# Step 1: Apply log transformation to skewed features\n",
    "df[skew_features] = df[skew_features] + 0.1  # Add small constant to avoid log(0)\n",
    "df[skew_features] = np.log1p(df[skew_features])\n",
    "\n",
    "# Step 2: Combine all features into a single dataset\n",
    "numeric_features = continuous_features + skew_features\n",
    "\n",
    "# Step 3: Change to int\n",
    "df[numeric_features] = df[numeric_features].astype(float)\n",
    "\n",
    "# Step 3: Apply the same scaling to all features\n",
    "preprocessor = ColumnTransformer(\n",
    "    transformers=[\n",
    "        ('all', scaler_standard, numeric_features),\n",
    "        ('binary', 'passthrough', binary_features)\n",
    "    ]\n",
    ")\n",
    "\n",
    "# Fit and transform the data\n",
    "processed_data = preprocessor.fit_transform(df)\n",
    "\n",
    "# Convert the result back to a DataFrame\n",
    "processed_df = pd.DataFrame(processed_data, columns=numeric_features+binary_features)\n",
    "\n",
    "\n",
    "# Print descriptive statistics\n",
    "print(processed_df.describe().round(3))"
   ]
  },
  {
   "cell_type": "code",
   "execution_count": 18,
   "metadata": {},
   "outputs": [],
   "source": [
    "processed_df.to_csv('dataset_encoded_scaled.csv', index=False)"
   ]
  },
  {
   "cell_type": "code",
   "execution_count": 19,
   "metadata": {},
   "outputs": [
    {
     "name": "stdout",
     "output_type": "stream",
     "text": [
      "academicYear           float64\n",
      "universityName         float64\n",
      "faculty                float64\n",
      "departmentName         float64\n",
      "idOSYM                 float64\n",
      "                        ...   \n",
      "language_İspanyolca    float64\n",
      "language_İtalyanca     float64\n",
      "baseRanking            float64\n",
      "idOSYM_flag            float64\n",
      "academicYear_flag      float64\n",
      "Length: 64, dtype: object\n"
     ]
    }
   ],
   "source": [
    "## Print data types\n",
    "print(processed_df.dtypes)"
   ]
  },
  {
   "cell_type": "code",
   "execution_count": null,
   "metadata": {},
   "outputs": [],
   "source": []
  }
 ],
 "metadata": {
  "kernelspec": {
   "display_name": ".venv",
   "language": "python",
   "name": "python3"
  },
  "language_info": {
   "codemirror_mode": {
    "name": "ipython",
    "version": 3
   },
   "file_extension": ".py",
   "mimetype": "text/x-python",
   "name": "python",
   "nbconvert_exporter": "python",
   "pygments_lexer": "ipython3",
   "version": "3.11.6"
  }
 },
 "nbformat": 4,
 "nbformat_minor": 2
}

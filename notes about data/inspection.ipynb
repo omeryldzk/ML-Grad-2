{
 "cells": [
  {
   "cell_type": "markdown",
   "metadata": {},
   "source": [
    "Here we will try to look into cases where due to scraping errors some baseRankings are taken wrong, for example 156000 was taken as 156. Following code will list rows where big sudden fall offs take place in the data."
   ]
  },
  {
   "cell_type": "code",
   "execution_count": 4,
   "metadata": {},
   "outputs": [
    {
     "name": "stderr",
     "output_type": "stream",
     "text": [
      "C:\\Users\\AliCe\\AppData\\Local\\Temp\\ipykernel_23836\\449229291.py:4: DtypeWarning: Columns (8) have mixed types. Specify dtype option on import or set low_memory=False.\n",
      "  df = pd.read_csv('FINALDATA.csv')\n"
     ]
    }
   ],
   "source": [
    "import pandas as pd\n",
    "\n",
    "# Read the CSV file\n",
    "df = pd.read_csv('FINALDATA.csv')\n",
    "\n",
    "# Sort the DataFrame by idOSYM and baseRanking\n",
    "df = df.sort_values(by=['idOSYM', 'baseRanking'])\n",
    "\n",
    "# Initialize an empty list to store the indices of the rows with sudden changes\n",
    "sudden_changes_indices = []\n",
    "\n",
    "# Iterate through the DataFrame\n",
    "for i in range(1, len(df)):\n",
    "    if df.iloc[i]['idOSYM'] == df.iloc[i-1]['idOSYM']:\n",
    "        current_value = df.iloc[i]['baseRanking']\n",
    "        previous_value = df.iloc[i-1]['baseRanking']\n",
    "        if current_value >= 10 * previous_value or current_value <= previous_value / 10:\n",
    "            sudden_changes_indices.append(i-1)\n",
    "            sudden_changes_indices.append(i)\n",
    "\n",
    "# Get the unique indices with sudden changes\n",
    "sudden_changes_indices = list(set(sudden_changes_indices))\n",
    "\n",
    "# Filter the DataFrame to include only the rows with sudden changes\n",
    "sudden_changes_df = df.iloc[sudden_changes_indices]\n",
    "\n",
    "# Save the new DataFrame to a CSV file\n",
    "sudden_changes_df.to_csv('sudden_changes_only2.csv', index=False)"
   ]
  },
  {
   "cell_type": "code",
   "metadata": {
    "jupyter": {
     "is_executing": true
    },
    "ExecuteTime": {
     "start_time": "2025-02-02T11:46:31.554223Z"
    }
   },
   "source": [
    "import pandas as pd\n",
    "\n",
    "# Read the CSV file\n",
    "df = pd.read_csv('FINALDATA.csv')\n",
    "\n",
    "# Drop rows where the quota column is 1 or 2\n",
    "df = df[~df['quota'].isin([1, 2])]\n",
    "\n",
    "# Sort the DataFrame by idOSYM, academicYear, and baseRanking\n",
    "df = df.sort_values(by=['idOSYM', 'academicYear', 'baseRanking'])\n",
    "\n",
    "# Initialize a dictionary to store the rows with sudden changes\n",
    "sudden_changes_dict = {}\n",
    "\n",
    "# Group the DataFrame by idOSYM\n",
    "grouped = df.groupby(['idOSYM'])\n",
    "\n",
    "# Iterate through each group\n",
    "for idOSYM, group in grouped:\n",
    "    group = group.dropna(subset=['baseRanking'])  # Drop rows where baseRanking is NaN\n",
    "    if len(group) <= 1:  # Skip groups with only one value\n",
    "        continue\n",
    "    for i in range(len(group)):\n",
    "        current_value = group.iloc[i]['baseRanking']\n",
    "        # Check if the current value is at least 10 times bigger or smaller than all other values in the group\n",
    "        if all(current_value >= 5 * other_value or current_value <= other_value / 5 for j, other_value in enumerate(group['baseRanking']) if i != j):\n",
    "            sudden_changes_dict[idOSYM] = group.iloc[i]\n",
    "            break\n",
    "\n",
    "# Convert the dictionary to a DataFrame\n",
    "sudden_changes_df = pd.DataFrame.from_dict(sudden_changes_dict, orient='index')\n",
    "sudden_changes_df = sudden_changes_df[~sudden_changes_df['occupiedSlots'].isin([0])]\n",
    "# Save the new DataFrame to a CSV file\n",
    "sudden_changes_df.to_csv('sudden_changes_single_rowLast.csv', index=False)"
   ],
   "outputs": [],
   "execution_count": null
  }
 ],
 "metadata": {
  "kernelspec": {
   "display_name": "Python 3",
   "language": "python",
   "name": "python3"
  },
  "language_info": {
   "codemirror_mode": {
    "name": "ipython",
    "version": 3
   },
   "file_extension": ".py",
   "mimetype": "text/x-python",
   "name": "python",
   "nbconvert_exporter": "python",
   "pygments_lexer": "ipython3",
   "version": "3.12.6"
  }
 },
 "nbformat": 4,
 "nbformat_minor": 2
}
